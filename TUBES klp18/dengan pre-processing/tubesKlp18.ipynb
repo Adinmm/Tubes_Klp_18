{
 "cells": [
  {
   "cell_type": "code",
   "execution_count": 59,
   "metadata": {},
   "outputs": [],
   "source": [
    "import numpy as np\n",
    "import pandas as pd\n",
    "import matplotlib.pyplot as plt\n",
    "import cv2\n",
    "import os\n",
    "import math"
   ]
  },
  {
   "attachments": {},
   "cell_type": "markdown",
   "metadata": {},
   "source": [
    "Code di atas ini digunakan untuk meng-import beberapa library python yaitu:\n",
    "\n",
    "numpy (np): Pustaka ini menyediakan dukungan untuk operasi numerik dan manipulasi array multidimensi. Dalam konteks ini, kemungkinan digunakan untuk operasi matematika, pemrosesan gambar, dan manipulasi data.\n",
    "\n",
    "pandas (pd): Pustaka ini menyediakan struktur data dan alat analisis data yang efisien. Dalam kode ini, mungkin digunakan untuk membaca, memanipulasi, dan menganalisis data tabular dalam format dataframe.\n",
    "\n",
    "matplotlib.pyplot (plt): Pustaka ini digunakan untuk membuat visualisasi grafik dan plot. Dalam kode ini, mungkin digunakan untuk menampilkan gambar atau grafik terkait analisis data.\n",
    "\n",
    "cv2: Pustaka ini adalah OpenCV (Open Source Computer Vision Library) yang menyediakan alat dan fungsi untuk pengolahan gambar dan komputer visi. Dalam kode ini, mungkin digunakan untuk membaca, memanipulasi, dan memproses gambar.\n",
    "\n",
    "os: Modul ini menyediakan fungsi-fungsi untuk berinteraksi dengan sistem operasi, seperti mengakses file dan direktori. Dalam kode ini, mungkin digunakan untuk melakukan operasi pada file atau direktori, seperti membaca nama file atau mengatur jalur file.\n",
    "\n",
    "math: Modul ini menyediakan fungsi matematika dasar. Dalam kode ini, mungkin digunakan untuk operasi matematika seperti logaritma atau perhitungan lainnya."
   ]
  },
  {
   "cell_type": "code",
   "execution_count": 60,
   "metadata": {},
   "outputs": [],
   "source": [
    "def resize_images(images, target_size):\n",
    "    resized_images = []\n",
    "    for img in images:\n",
    "        resized_img = cv2.resize(img, target_size)\n",
    "        resized_images.append(resized_img)\n",
    "    return resized_images"
   ]
  },
  {
   "attachments": {},
   "cell_type": "markdown",
   "metadata": {},
   "source": [
    "Code di atas ini merupakan Fungsi resize_images digunakan untuk mengubah ukuran gambar-gambar dalam daftar images menjadi ukuran yang ditentukan dalam target_size. Fungsi ini menggunakan modul cv2 untuk melakukan operasi resize pada setiap gambar."
   ]
  },
  {
   "cell_type": "code",
   "execution_count": 61,
   "metadata": {},
   "outputs": [],
   "source": [
    "def normalize_images(images):\n",
    "    normalized_images = []\n",
    "    for img in images:\n",
    "        normalized_img = cv2.normalize(img, None, 0, 255, cv2.NORM_MINMAX)\n",
    "        normalized_images.append(normalized_img)\n",
    "    return normalized_images"
   ]
  },
  {
   "attachments": {},
   "cell_type": "markdown",
   "metadata": {},
   "source": [
    "Code di atas ini merupakan Fungsi normalize_images digunakan untuk melakukan normalisasi pada gambar-gambar dalam daftar images. Normalisasi di sini mengacu pada proses mengubah rentang nilai piksel dalam gambar sehingga nilainya berada dalam rentang yang diinginkan, dalam hal ini 0 hingga 255."
   ]
  },
  {
   "cell_type": "code",
   "execution_count": 62,
   "metadata": {},
   "outputs": [],
   "source": [
    "kernel = np.ones((5, 5), np.uint8)\n",
    "def closing(image):\n",
    "   closed = []\n",
    "   for img in image:\n",
    "      result = cv2.morphologyEx(img, cv2.MORPH_CLOSE, kernel)\n",
    "      closed.append(result)\n",
    "   return closed"
   ]
  },
  {
   "attachments": {},
   "cell_type": "markdown",
   "metadata": {},
   "source": [
    "Code di atas ini merupakan Fungsi closing digunakan untuk melakukan operasi penutupan (closing) pada gambar-gambar dalam daftar image. Operasi penutupan adalah salah satu operasi morfologi dalam pengolahan citra yang bertujuan untuk menutupi lubang-lubang kecil atau celah pada objek dalam gambar."
   ]
  },
  {
   "cell_type": "code",
   "execution_count": 63,
   "metadata": {},
   "outputs": [],
   "source": [
    "def medianFilter(image):\n",
    "    result = []\n",
    "    for img in image:\n",
    "       filter = cv2.medianBlur(img, 3)\n",
    "       result.append(filter)\n",
    "    return result"
   ]
  },
  {
   "attachments": {},
   "cell_type": "markdown",
   "metadata": {},
   "source": [
    "Code di atas ini merupakan Fungsi medianFilter digunakan untuk menerapkan filter median pada gambar-gambar dalam daftar image. Filter median adalah salah satu teknik penghalusan citra yang menggantikan nilai setiap piksel dengan nilai median dari piksel-piksel di sekitarnya."
   ]
  },
  {
   "cell_type": "code",
   "execution_count": 64,
   "metadata": {},
   "outputs": [],
   "source": [
    "def sobel(image):\n",
    "    edge = []\n",
    "    for img in image:\n",
    "        sobel_x = cv2.Sobel(img, cv2.CV_64F, 1, 0, ksize=3)  # Operasi Sobel horisontal\n",
    "        sobel_y = cv2.Sobel(img, cv2.CV_64F, 0, 1, ksize=3)  # Operasi Sobel vertikal\n",
    "        # Mengambil magnitudo gradien\n",
    "        sobel_x = np.uint8(np.absolute(sobel_x))\n",
    "        sobel_y = np.uint8(np.absolute(sobel_y))\n",
    "        sobel_combined = cv2.bitwise_or(sobel_x, sobel_y)\n",
    "        edge.append(sobel_combined)\n",
    "    return edge"
   ]
  },
  {
   "attachments": {},
   "cell_type": "markdown",
   "metadata": {},
   "source": [
    "Code di atas ini merupakan Fungsi sobel digunakan untuk menerapkan operator Sobel pada gambar-gambar dalam daftar image. Operator Sobel adalah salah satu metode deteksi tepi dalam pengolahan citra yang menghasilkan gambar tepi horisontal dan vertikal."
   ]
  },
  {
   "cell_type": "code",
   "execution_count": 65,
   "metadata": {},
   "outputs": [],
   "source": [
    "def thresholding_image(images, treshval):\n",
    "    thresholded_images = []\n",
    "    for image in images:\n",
    "        rows, cols = image.shape\n",
    "        thresholded = np.zeros([rows, cols])\n",
    "        thresholded[image > treshval] = 255\n",
    "        thresholded_images.append(thresholded)\n",
    "    return thresholded_images"
   ]
  },
  {
   "attachments": {},
   "cell_type": "markdown",
   "metadata": {},
   "source": [
    "Code di atas ini merupakan Fungsi thresholding_image digunakan untuk melakukan thresholding pada gambar-gambar dalam daftar images dengan menggunakan nilai ambang treshval. Thresholding adalah metode untuk mengubah gambar menjadi citra biner di mana setiap piksel akan diubah menjadi hitam atau putih berdasarkan apakah nilainya melebihi atau kurang dari nilai ambang."
   ]
  },
  {
   "cell_type": "markdown",
   "metadata": {},
   "source": [
    "# IMPORT PATH"
   ]
  },
  {
   "cell_type": "code",
   "execution_count": 66,
   "metadata": {},
   "outputs": [],
   "source": [
    "def process_dataset(dataset_dir):\n",
    "    images = []\n",
    "    labels = []\n",
    "    names = []\n",
    "    count1= count2 = count3= 0\n",
    "\n",
    "    for sub_folder in os.listdir(dataset_dir):\n",
    "        sub_folder_files = os.listdir(os.path.join(dataset_dir, sub_folder))\n",
    "        for i, filename in enumerate(sub_folder_files):\n",
    "            img = cv2.imread(os.path.join(dataset_dir, sub_folder, filename))\n",
    "            imgs1 = cv2.cvtColor(img, cv2.COLOR_BGR2GRAY)\n",
    "            \n",
    "            if(sub_folder=='WHIMBREL'):\n",
    "                if(count1<100):\n",
    "                    images.append(imgs1)\n",
    "                    labels.append(sub_folder)\n",
    "                    names.append(filename)\n",
    "                    count1+=1\n",
    "            elif(sub_folder=='WRENTIT'):\n",
    "                if(count2<100):            \n",
    "                    images.append(imgs1)\n",
    "                    labels.append(sub_folder)\n",
    "                    names.append(filename)\n",
    "                    count2+=1\n",
    "            elif(sub_folder=='ZEBRA DOVE'):\n",
    "                if(count3<100):                \n",
    "                    images.append(imgs1)\n",
    "                    labels.append(sub_folder)\n",
    "                    names.append(filename)\n",
    "                    count3+=1\n",
    "                    \n",
    "    images = np.array(images)\n",
    "    labels = np.array(labels)\n",
    "    names = np.array(names)\n",
    "\n",
    "    return images, labels, names"
   ]
  },
  {
   "attachments": {},
   "cell_type": "markdown",
   "metadata": {},
   "source": [
    "Code di atas merupakan Fungsi process_dataset digunakan untuk memproses dataset yang terdiri dari gambar-gambar burung dalam folder-folder yang terorganisir berdasarkan kelasnya. Fungsi ini akan membaca gambar-gambar, mengonversi ke skala keabuan, dan menyimpannya dalam sebuah array images. Selain itu, fungsi ini juga akan menyimpan label kelas dan nama file gambar dalam array labels dan names secara bersamaan."
   ]
  },
  {
   "cell_type": "code",
   "execution_count": 67,
   "metadata": {},
   "outputs": [],
   "source": [
    "dataset_dir = \"datasets/\"\n",
    "images, labels, names= process_dataset(dataset_dir)\n",
    "images = medianFilter(images)\n",
    "resized_data = resize_images(images, (256, 256))\n",
    "normalized_data = normalize_images(resized_data)\n",
    "closing_data = closing(normalized_data)\n",
    "edgedetected_data = sobel(closing_data)\n",
    "treshed_data = thresholding_image(edgedetected_data, 100)"
   ]
  },
  {
   "attachments": {},
   "cell_type": "markdown",
   "metadata": {},
   "source": [
    "Code di atas digunakan untuk melakukan pre-processing pada dataset, proses melakukan pre-processing adalah sebagi berikut :\n",
    "\n",
    "Menyimpan direktori dataset dalam variabel dataset_dir (misalnya, \"datasets/\").\n",
    "\n",
    "Memanggil fungsi process_dataset dengan argumen dataset_dir untuk memperoleh data, labels, dan names.\n",
    "\n",
    "Mengaplikasikan median filter pada data menggunakan fungsi medianFilter, dan menyimpan hasilnya dalam data.\n",
    "\n",
    "Melakukan resize pada data menggunakan fungsi resize_images dengan ukuran target (256, 256), dan menyimpan hasilnya dalam resized_data.\n",
    "\n",
    "Melakukan normalisasi pada resized_data menggunakan fungsi normalize_images, dan menyimpan hasilnya dalam normalized_data.\n",
    "\n",
    "Melakukan closing pada normalized_data menggunakan fungsi closing, dan menyimpan hasilnya dalam closing_data.\n",
    "\n",
    "Melakukan deteksi tepi pada closing_data menggunakan fungsi sobel, dan menyimpan hasilnya dalam edgedetected_data.\n",
    "\n",
    "Melakukan thresholding pada edgedetected_data dengan nilai threshold 100 menggunakan fungsi thresholding_image, dan menyimpan hasilnya dalam treshed_data."
   ]
  },
  {
   "cell_type": "code",
   "execution_count": 70,
   "metadata": {},
   "outputs": [
    {
     "data": {
      "text/plain": [
       "<matplotlib.image.AxesImage at 0x2b349e91fd0>"
      ]
     },
     "execution_count": 70,
     "metadata": {},
     "output_type": "execute_result"
    },
    {
     "data": {
      "image/png": "[encoded data removed]",
      "text/plain": [
       "<Figure size 640x480 with 1 Axes>"
      ]
     },
     "metadata": {},
     "output_type": "display_data"
    }
   ],
   "source": [
    "plt.imshow(treshed_data[5], cmap='gray')"
   ]
  },
  {
   "attachments": {},
   "cell_type": "markdown",
   "metadata": {},
   "source": [
    "Code di atas digunakan untuk menampilkan gambar hasil thresholding dari treshed_data pada indeks ke-5 menggunakan matplotlib, Anda dapat menggunakan fungsi imshow dari matplotlib.pyplot dengan mengatur cmap='gray' untuk menampilkan citra dalam skala abu-abu."
   ]
  },
  {
   "cell_type": "markdown",
   "metadata": {},
   "source": [
    "# GLCM"
   ]
  },
  {
   "cell_type": "code",
   "execution_count": 71,
   "metadata": {},
   "outputs": [],
   "source": [
    "def derajat0 (images):\n",
    "\n",
    "    #mencari nilai terbesar atau tertinggi dari piksel image\n",
    "    max = np.max(images)\n",
    "\n",
    "    #membuat array kosong yang nantinya digunakan untuk menampung hasil concurence dari image\n",
    "    imgsTmp = np.zeros([max+1,max+1])\n",
    "\n",
    "    #looping agar dapat mengolah semua piksel pada gambar\n",
    "    for i in range (len(images)): #looping untuk kolom\n",
    "        for j in range(len(images[i])-1): #looping untuk baris\n",
    "\n",
    "            #menentukan matrik concurence\n",
    "            #dimana derajat0 berarti pengambilan nilai piksel kekanan dari piksel asal\n",
    "            #misalkan jika piksel[0,0] = 1 dan piksel[0,1]=3(dikanannnya piksel[0,0]), maka\n",
    "            #concurence[1,3] akan ditambah 1 dan seterusnya\n",
    "            imgsTmp[images[i,j],images[i,j+1]] +=1 \n",
    "    \n",
    "    #mentranpos array hasil concurence\n",
    "    transpos = np.transpose(imgsTmp)\n",
    "\n",
    "    #menjumlahkan array transpos dengan concurence\n",
    "    data = imgsTmp+transpos\n",
    "\n",
    "    #membuat var yang nantinya digunakan untuk menyimpan hasil penjumlahan \n",
    "    tmp = 0\n",
    "    #normalisasi\n",
    "    for i in range (len(data)):\n",
    "        for j in range(len(data)):\n",
    "            #menambahkan semua piksel pada var data\n",
    "            tmp+=data[i,j]\n",
    "       \n",
    "    for i in range(len(data)):\n",
    "        for j in range(len(data)):\n",
    "            #membagi data dengan hasil penambahan tadi\n",
    "            data[i,j]/=tmp\n",
    "            \n",
    "    #mengembalikan var data\n",
    "    return data"
   ]
  },
  {
   "attachments": {},
   "cell_type": "markdown",
   "metadata": {},
   "source": [
    "Code di atas ini merupakan Fungsi derajat0 digunakan untuk menghitung matriks concurrence berdasarkan derajat 0 dari piksel-piksel dalam gambar. Concurrence adalah ukuran statistik yang menggambarkan hubungan antara intensitas piksel-piksel yang berdekatan dalam gambar. Prosesnya melibatkan penghitungan frekuensi kemunculan pasangan piksel dengan derajat 0, di mana piksel kedua berada di sebelah kanan piksel pertama.\n",
    "\n",
    "Dengan menggunakan fungsi derajat0, kita dapat mengukur hubungan spasial antara piksel-piksel dalam gambar dan menggunakannya sebagai fitur untuk analisis atau pemodelan lebih lanjut."
   ]
  },
  {
   "cell_type": "code",
   "execution_count": 72,
   "metadata": {},
   "outputs": [],
   "source": [
    "def derajat45 (images):\n",
    "\n",
    "    #mencari nilai terbesar atau tertinggi dari piksel image\n",
    "    max = np.max(images)\n",
    "\n",
    "    #membuat array kosong yang nantinya digunakan untuk menampung hasil concurence dari image\n",
    "    imagesTmp=np.zeros([max+1,max+1])\n",
    "\n",
    "    #looping agar dapat mengolah semua piksel pada gambar\n",
    "    for i in range (len (images)-1):\n",
    "        for j in range (len (images[i])-1):\n",
    "            imagesTmp[images[i+1,j],images[i,j+1]] += 1\n",
    "    \n",
    "    #mentranpos array hasil concurence\n",
    "    transpos= np.transpose(imagesTmp)\n",
    "\n",
    "    #menjumlahkan array transpos dengan concurence\n",
    "    data= imagesTmp+transpos\n",
    "    \n",
    "    #membuat var yang nantinya digunakan untuk menyimpan hasil penjumlahan\n",
    "    tmp=0\n",
    "    #normalisasi\n",
    "    for i in range (len(data)):\n",
    "        for j in range (len(data)):\n",
    "            #menambahkan semua piksel pada var data\n",
    "            tmp+=data[i,j]\n",
    "            \n",
    "    for i in range (len (data)):\n",
    "        for j in range (len (data)):\n",
    "            #membagi data dengan hasil penambahan tadi\n",
    "            data[i,j]/=tmp\n",
    "    #mengembalikan var data\n",
    "    return data"
   ]
  },
  {
   "attachments": {},
   "cell_type": "markdown",
   "metadata": {},
   "source": [
    "Code di atas ini merupakan Fungsi derajat45 digunakan untuk menghitung matriks concurrence berdasarkan derajat 45 dari piksel-piksel dalam gambar. Pada derajat 45, pasangan piksel dihitung berdasarkan hubungan antara piksel saat ini dengan piksel diagonal kanan bawahnya.\n",
    "\n",
    "Fungsi derajat45 dapat digunakan untuk menganalisis hubungan spasial antara piksel-piksel dalam gambar dengan derajat 45 dan menghasilkan fitur yang dapat digunakan dalam analisis atau pemodelan lebih lanjut."
   ]
  },
  {
   "cell_type": "code",
   "execution_count": 73,
   "metadata": {},
   "outputs": [],
   "source": [
    "def derajat90 (images):\n",
    "\n",
    "    #mencari nilai terbesar atau tertinggi dari piksel image\n",
    "    max = np.max(images)\n",
    "\n",
    "    #membuat array kosong yang nantinya digunakan untuk menampung hasil concurence dari image\n",
    "    imagesTmp=np.zeros([max+1,max+1])\n",
    "\n",
    "    #looping agar dapat mengolah semua piksel pada gambar\n",
    "    for i in range (len (images)-1):\n",
    "        for j in range (len (images[i])):\n",
    "            imagesTmp[images[i+1,j],images[i,j]] += 1\n",
    "            \n",
    "    #mentranpos array hasil concurence\n",
    "    transpos= np.transpose(imagesTmp)\n",
    "\n",
    "    #menjumlahkan array transpos dengan concurence\n",
    "    data= imagesTmp+transpos\n",
    "    \n",
    "    #membuat var yang nantinya digunakan untuk menyimpan hasil penjumlahan\n",
    "    tmp=0\n",
    "    #normalisasi\n",
    "    for i in range (len(data)):\n",
    "        for j in range (len(data)):\n",
    "            #menambahkan semua piksel pada var data\n",
    "            tmp+=data[i,j]\n",
    "            \n",
    "    for i in range (len (data)):\n",
    "        for j in range (len (data)):\n",
    "            #membagi data dengan hasil penambahan tadi\n",
    "            data[i,j]/=tmp\n",
    "    #mengembalikan var data\n",
    "    return data"
   ]
  },
  {
   "attachments": {},
   "cell_type": "markdown",
   "metadata": {},
   "source": [
    "Code di atas ini merupakan Fungsi derajat90 digunakan untuk menghitung matriks concurrence berdasarkan derajat 90 dari piksel-piksel dalam gambar. Pada derajat 90, pasangan piksel dihitung berdasarkan hubungan antara piksel saat ini dengan piksel di atasnya dalam kolom yang sama.\n",
    "\n",
    "Fungsi derajat90 dapat digunakan untuk menganalisis hubungan spasial antara piksel-piksel dalam gambar dengan derajat 90 dan menghasilkan fitur yang dapat digunakan dalam analisis atau pemodelan lebih lanjut."
   ]
  },
  {
   "cell_type": "code",
   "execution_count": 74,
   "metadata": {},
   "outputs": [],
   "source": [
    "def derajat135 (images):\n",
    "\n",
    "    #mencari nilai terbesar atau tertinggi dari piksel image\n",
    "    max = np.max(images)\n",
    "\n",
    "    #membuat array kosong yang nantinya digunakan untuk menampung hasil concurence dari image\n",
    "    imagesTmp=np.zeros([max+1,max+1])\n",
    "    for i in range (len (images)-1):\n",
    "        for j in range (len (images[i])-1):\n",
    "            imagesTmp[images[i,j],images[i+1,j+1]] += 1\n",
    "            \n",
    "    #mentranpos array hasil concurence\n",
    "    transpos= np.transpose(imagesTmp)\n",
    "\n",
    "    #menjumlahkan array transpos dengan concurence\n",
    "    data= imagesTmp+transpos\n",
    "    \n",
    "    #membuat var yang nantinya digunakan untuk menyimpan hasil penjumlahan\n",
    "    tmp=0\n",
    "    #normalisasi\n",
    "    for i in range (len(data)):\n",
    "        for j in range (len(data)):\n",
    "            #menambahkan semua piksel pada var data\n",
    "            tmp+=data[i,j]\n",
    "            \n",
    "    for i in range (len (data)):\n",
    "        for j in range (len (data)):\n",
    "            #membagi data dengan hasil penambahan tadi\n",
    "            data[i,j]/=tmp\n",
    "    #mengembalikan var data\n",
    "    return data"
   ]
  },
  {
   "attachments": {},
   "cell_type": "markdown",
   "metadata": {},
   "source": [
    "Code di atas ini merupakan Fungsi derajat135 digunakan untuk menghitung matriks concurrence berdasarkan derajat 135 dari piksel-piksel dalam gambar. Pada derajat 135, pasangan piksel dihitung berdasarkan hubungan antara piksel saat ini dengan piksel di diagonal kanan bawahnya.\n",
    "\n",
    "Fungsi derajat135 dapat digunakan untuk menganalisis hubungan spasial antara piksel-piksel dalam gambar dengan derajat 135 dan menghasilkan fitur yang dapat digunakan dalam analisis atau pemodelan lebih lanjut."
   ]
  },
  {
   "cell_type": "code",
   "execution_count": 75,
   "metadata": {},
   "outputs": [],
   "source": [
    "def dissimilarity(data): \n",
    "    simpan = 0 #membuat var simpan yang nantinya digunakan untuk menyimpan hasil\n",
    "    for i in range (len(data)): \n",
    "        for j in range(len(data)):\n",
    "\n",
    "            #rumus : p(x,y)+|i-j|\n",
    "            simpan+= data[i,j]+abs(i-j)\n",
    "    #mengembalikan nilai var simpan\n",
    "    return simpan"
   ]
  },
  {
   "attachments": {},
   "cell_type": "markdown",
   "metadata": {},
   "source": [
    "Code di atas ini merupakan Fungsi dissimilarity digunakan untuk menghitung nilai dissimilarity dari matriks concurrence. Dissimilarity mengukur perbedaan atau ketidaksamaan antara pasangan piksel dalam gambar."
   ]
  },
  {
   "cell_type": "code",
   "execution_count": 76,
   "metadata": {},
   "outputs": [],
   "source": [
    "def ASM(data): \n",
    "    simpan = 0 #membuat var simpan yang nantinya digunakan untuk menyimpan hasil\n",
    "    for i in range (len(data)):\n",
    "        for j in range(len(data)):\n",
    "\n",
    "            #rumus : p(x,y)^2\n",
    "            simpan+= pow(data[i,j],2)\n",
    "    #mengembalikan nilai var simpan\n",
    "    return simpan "
   ]
  },
  {
   "attachments": {},
   "cell_type": "markdown",
   "metadata": {},
   "source": [
    "Code di atas ini merupakan Fungsi ASM digunakan untuk menghitung Angular Second Moment (ASM) dari matriks concurrence yang diberikan. ASM mengukur kehalusan atau keteraturan tekstur dalam gambar."
   ]
  },
  {
   "cell_type": "code",
   "execution_count": 77,
   "metadata": {},
   "outputs": [],
   "source": [
    "def contrast(data):\n",
    "    simpan = 0 #membuat var simpan yang nantinya digunakan untuk menyimpan hasil\n",
    "    for i in range (len(data)):\n",
    "        for j in range(len(data)):\n",
    "\n",
    "            #rumus : p(x,y)+(i-j)^2\n",
    "            simpan+= data[i,j]+pow(i-j,2)\n",
    "    #mengembalikan nilai var simpan\n",
    "    return simpan"
   ]
  },
  {
   "attachments": {},
   "cell_type": "markdown",
   "metadata": {},
   "source": [
    "Code di atas ini merupakan Fungsi contrast digunakan untuk menghitung kontras dari matriks concurrence yang diberikan. Kontras mengukur perbedaan intensitas antara piksel-piksel dalam gambar."
   ]
  },
  {
   "cell_type": "code",
   "execution_count": 78,
   "metadata": {},
   "outputs": [],
   "source": [
    "def entropi(data):\n",
    "    simpan = 0 #membuat var simpan yang nantinya digunakan untuk menyimpan hasil\n",
    "    for i in range(len(data)):\n",
    "        for j in range(len(data)):\n",
    "            if data[i,j] > 0:\n",
    "                #rumus : -(p(x,y)*log^2(i-j)\n",
    "                simpan+= -(data[i,j] * math.log2(data[i,j]))\n",
    "    #mengembalikan nilai var simpan\n",
    "    return simpan"
   ]
  },
  {
   "attachments": {},
   "cell_type": "markdown",
   "metadata": {},
   "source": [
    "Code di atas ini merupakan Fungsi entropi digunakan untuk menghitung nilai Entropi dari matriks concurrence yang diberikan. Entropi menggambarkan tingkat ketidakpastian atau kompleksitas distribusi intensitas dalam gambar."
   ]
  },
  {
   "cell_type": "code",
   "execution_count": 79,
   "metadata": {},
   "outputs": [],
   "source": [
    "def energy(data):\n",
    "    simpan = 0 #membuat var simpan yang nantinya digunakan untuk menyimpan hasil\n",
    "    for i in range (len(data)):\n",
    "        for j in range(len(data)):\n",
    "            #rumus : sqrt(p(x,y)^2) atau sqrt(ASM)\n",
    "            simpan+=pow(data[i,j],2)\n",
    "    #mengembalikan nilai var simpan\n",
    "    return simpan"
   ]
  },
  {
   "attachments": {},
   "cell_type": "markdown",
   "metadata": {},
   "source": [
    "Code di atas ini merupakan Fungsi energy digunakan untuk menghitung nilai Energy dari matriks concurrence yang diberikan. Energy merupakan ukuran dari jumlah energi atau kekuatan tekstur dalam gambar."
   ]
  },
  {
   "cell_type": "code",
   "execution_count": 80,
   "metadata": {},
   "outputs": [],
   "source": [
    "def homogenitas(data):\n",
    "    simpan = 0 #membuat var simpan yang nantinya digunakan untuk menyimpan hasil\n",
    "    for i in range (len(data)):\n",
    "        for j in range(len(data)):\n",
    "            #rumus : p(x,y)/1+(i-j)^2\n",
    "            simpan+=data[i,j]/(1+pow((i-j),2))\n",
    "    #mengembalikan nilai var simpan\n",
    "    return simpan"
   ]
  },
  {
   "attachments": {},
   "cell_type": "markdown",
   "metadata": {},
   "source": [
    "Code di atas ini merupakan Fungsi homogenitas digunakan untuk menghitung nilai Homogeneity dari matriks concurrence yang diberikan. Homogeneity menggambarkan sejauh mana distribusi intensitas tekstur yang seragam dalam gambar."
   ]
  },
  {
   "cell_type": "code",
   "execution_count": 81,
   "metadata": {},
   "outputs": [],
   "source": [
    "def correlation(data,mI,mJ,tI,tJ):\n",
    "    simpan = 0 #membuat var simpan yang nantinya digunakan untuk menyimpan hasil\n",
    "    for i in range (len(data)):\n",
    "        for j in range(len(data)):\n",
    "            simpan+=((i-mI)*(j-mJ)*data[i,j])/(tI*tJ)\n",
    "    #mengembalikan nilai var simpan\n",
    "    return simpan"
   ]
  },
  {
   "attachments": {},
   "cell_type": "markdown",
   "metadata": {},
   "source": [
    "Code di atas ini merupakan Fungsi correlation digunakan untuk menghitung nilai Correlation dari matriks concurrence yang diberikan. Correlation menggambarkan sejauh mana hubungan linier antara intensitas tekstur dalam gambar."
   ]
  },
  {
   "cell_type": "code",
   "execution_count": 82,
   "metadata": {},
   "outputs": [],
   "source": [
    "def meanI(data):\n",
    "    simpan = 0 #membuat var simpan yang nantinya digunakan untuk menyimpan hasil\n",
    "    for i in range (len(data)):\n",
    "        for j in range(len(data)):\n",
    "            simpan+= i * data[i,j]\n",
    "    #mengembalikan nilai var simpan\n",
    "    return simpan"
   ]
  },
  {
   "attachments": {},
   "cell_type": "markdown",
   "metadata": {},
   "source": [
    "Code di atas ini merupakan Fungsi meanI digunakan untuk menghitung nilai mean intensitas (meanI) dari matriks concurrence yang diberikan."
   ]
  },
  {
   "cell_type": "code",
   "execution_count": 83,
   "metadata": {},
   "outputs": [],
   "source": [
    "def meanJ(data):\n",
    "    simpan = 0 #membuat var simpan yang nantinya digunakan untuk menyimpan hasil\n",
    "    for i in range (len(data)):\n",
    "        for j in range(len(data)):\n",
    "            simpan+= j * data[i,j]\n",
    "    #mengembalikan nilai var simpan\n",
    "    return simpan"
   ]
  },
  {
   "attachments": {},
   "cell_type": "markdown",
   "metadata": {},
   "source": [
    "Code di atas ini merupakan Fungsi meanJ digunakan untuk menghitung nilai mean kolom (meanJ) dari matriks concurrence yang diberikan."
   ]
  },
  {
   "cell_type": "code",
   "execution_count": 84,
   "metadata": {},
   "outputs": [],
   "source": [
    "def taoI(data,mI):\n",
    "    simpan = 0 #membuat var simpan yang nantinya digunakan untuk menyimpan hasil\n",
    "    for i in range (len(data)):\n",
    "        for j in range(len(data)):\n",
    "            simpan+= pow((i-mI),2)*data[i,j]\n",
    "    \n",
    "    #mengakarkan var simpan\n",
    "    simpan = math.sqrt(simpan)\n",
    "    #mengembalikan nilai var simpan\n",
    "    return simpan"
   ]
  },
  {
   "attachments": {},
   "cell_type": "markdown",
   "metadata": {},
   "source": [
    "Code di atas ini merupakan Fungsi taoI digunakan untuk menghitung nilai taoI (standard deviation of intensity) dari matriks concurrence yang diberikan, berdasarkan nilai mean intensitas (mI)."
   ]
  },
  {
   "cell_type": "code",
   "execution_count": 85,
   "metadata": {},
   "outputs": [],
   "source": [
    "def taoJ(data,mJ):\n",
    "    simpan = 0 #membuat var simpan yang nantinya digunakan untuk menyimpan hasil\n",
    "    for i in range (len(data)):\n",
    "        for j in range(len(data)):\n",
    "            simpan+= pow((j-mJ),2)*data[i,j]\n",
    "    #mengakarkan var simpan\n",
    "    simpan = math.sqrt(simpan)\n",
    "    #mengembalikan nilai var simpan\n",
    "    return simpan"
   ]
  },
  {
   "attachments": {},
   "cell_type": "markdown",
   "metadata": {},
   "source": [
    "Code di atas ini merupakan Fungsi taoJ digunakan untuk menghitung nilai taoJ (standard deviation of j) dari matriks concurrence yang diberikan, berdasarkan nilai mean j (mJ)."
   ]
  },
  {
   "cell_type": "code",
   "execution_count": 86,
   "metadata": {},
   "outputs": [],
   "source": [
    "hasil = []\n",
    "for i in range(len(images)):\n",
    "    dat = []\n",
    "    dat.append(derajat0 (images[i]))      #mencari piksel derajat0\n",
    "    dat.append(derajat45 (images[i]))     #mencari piksel derajat45\n",
    "    dat.append(derajat90 (images[i]))     #mencari piksel derajat90\n",
    "    dat.append(derajat135 (images[i]))    #mencari piksel derajat135\n",
    "    hasil.append(dat)"
   ]
  },
  {
   "attachments": {},
   "cell_type": "markdown",
   "metadata": {},
   "source": [
    "Code di atas merupakan sebuah loop yang mengiterasi setiap gambar dalam array images dan melakukan perhitungan untuk masing-masing gambar. Setiap gambar diproses menggunakan empat fungsi yang telah didefinisikan sebelumnya, yaitu derajat0, derajat45, derajat90, dan derajat135. Hasil dari setiap perhitungan disimpan dalam variabel hasil."
   ]
  },
  {
   "cell_type": "code",
   "execution_count": 87,
   "metadata": {},
   "outputs": [],
   "source": [
    "frame = []\n",
    "indeks = 0 #digunakan untuk menentukan indeks dari nama filenya\n",
    "for i in hasil:\n",
    "    save = []\n",
    "    #untuk menginputkan nama dari file\n",
    "    save.append(names[indeks])\n",
    "    indeks+=1\n",
    "    for j in i:\n",
    "\n",
    "        #memanggil fungsi energy\n",
    "        en = energy(j)\n",
    "        #menginputkan kedalam var save\n",
    "        save.append(en)\n",
    "        \n",
    "        #memanggil fungsi homogenitas\n",
    "        hm = homogenitas(j)\n",
    "        #menginputkan kedalam var save\n",
    "        save.append(hm)\n",
    "        \n",
    "        #memanggil fungsi entropi\n",
    "        ent = entropi(j)\n",
    "        #menginputkan kedalam var save\n",
    "        save.append(ent)\n",
    "        \n",
    "        #memanggil fungsi contrast\n",
    "        con = contrast(j)\n",
    "        #menginputkan kedalam var save\n",
    "        save.append(con)\n",
    "\n",
    "        #memanggil fungsi dissimilarity\n",
    "        dis = dissimilarity(j)\n",
    "        #menginputkan kedalam var save\n",
    "        save.append(dis)\n",
    "\n",
    "        #memanggil fungsi ASM\n",
    "        asm = ASM(j)\n",
    "        #menginputkan kedalam var save\n",
    "        save.append(asm)\n",
    "        \n",
    "        mI = meanI(j)\n",
    "        mJ = meanJ(j)\n",
    "        tI = taoI(j,mI)\n",
    "        tJ = taoJ(j,mJ)\n",
    "        \n",
    "        #memanggil fungsi correlation\n",
    "        cor = correlation(j,mI,mJ,tI,tJ)\n",
    "        #menginputkan kedalam var save\n",
    "        save.append(cor)\n",
    "        \n",
    "    #menginputkan isi var save ke var frame\n",
    "    frame.append(save)"
   ]
  },
  {
   "attachments": {},
   "cell_type": "markdown",
   "metadata": {},
   "source": [
    "Code di atas merupakan sebuah loop yang mengiterasi setiap hasil perhitungan concurrence dari masing-masing gambar dalam variabel hasil. Loop tersebut akan menghitung beberapa fitur tekstur berdasarkan matriks concurrence dan menyimpan hasilnya dalam variabel frame."
   ]
  },
  {
   "cell_type": "code",
   "execution_count": 88,
   "metadata": {},
   "outputs": [],
   "source": [
    "#membuat var yang nantinya digunakan sebagai header\n",
    "headerPass = ['path','energi0','homogenitas0','entropy0','contras0','dissimilarity0','ASM0','correlation0'\n",
    "           ,'energi45','homogenitas45','entropy45','contras45','dissimilarity45','ASM45','correlation45'\n",
    "           ,'energi90','homogenitas90','entropy90','contras90','dissimilarity90','ASM90','correlation90'\n",
    "           ,'energi135','homogenitas135','entropy135','contras135','dissimilarity135','ASM135','correlation135']\n",
    "#menginputkan var frame sebagai isi dari tabel\n",
    "df = pd.DataFrame(frame, columns=headerPass)"
   ]
  },
  {
   "attachments": {},
   "cell_type": "markdown",
   "metadata": {},
   "source": [
    "Code di atas digunakan untuk membuat header dan mengonversi hasil fitur tekstur dalam variabel frame menjadi sebuah tabel pandas. Variabel headerPass berisi daftar nama kolom yang akan digunakan sebagai header tabel. Selanjutnya, menggunakan pd.DataFrame, frame dijadikan isi dari tabel dengan kolom-kolom yang sesuai dengan headerPass. Hasilnya disimpan dalam variabel df, yang merupakan objek DataFrame pandas yang berisi tabel dengan fitur-fitur tekstur."
   ]
  },
  {
   "cell_type": "code",
   "execution_count": 89,
   "metadata": {},
   "outputs": [],
   "source": [
    "#digunakan untuk mensave data menjadi file csv dengan nama Jurnalmodul8\n",
    "df['labels'] = labels\n",
    "df.to_csv(r'hasil.csv', index=False)"
   ]
  },
  {
   "attachments": {},
   "cell_type": "markdown",
   "metadata": {},
   "source": [
    "Code di atas digunakan untuk menambahkan kolom 'labels' ke DataFrame df, yang berisi label-label dari data gambar. Kemudian, DataFrame tersebut disimpan ke dalam file CSV dengan nama 'dataset1.csv' menggunakan metode to_csv(). Parameter index=False digunakan untuk tidak menyertakan indeks dalam file CSV yang dihasilkan."
   ]
  },
  {
   "cell_type": "code",
   "execution_count": 90,
   "metadata": {},
   "outputs": [
    {
     "data": {
      "text/html": [
       "<div>\n",
       "<style scoped>\n",
       "    .dataframe tbody tr th:only-of-type {\n",
       "        vertical-align: middle;\n",
       "    }\n",
       "\n",
       "    .dataframe tbody tr th {\n",
       "        vertical-align: top;\n",
       "    }\n",
       "\n",
       "    .dataframe thead th {\n",
       "        text-align: right;\n",
       "    }\n",
       "</style>\n",
       "<table border=\"1\" class=\"dataframe\">\n",
       "  <thead>\n",
       "    <tr style=\"text-align: right;\">\n",
       "      <th></th>\n",
       "      <th>path</th>\n",
       "      <th>energi0</th>\n",
       "      <th>homogenitas0</th>\n",
       "      <th>entropy0</th>\n",
       "      <th>contras0</th>\n",
       "      <th>dissimilarity0</th>\n",
       "      <th>ASM0</th>\n",
       "      <th>correlation0</th>\n",
       "      <th>energi45</th>\n",
       "      <th>homogenitas45</th>\n",
       "      <th>...</th>\n",
       "      <th>ASM90</th>\n",
       "      <th>correlation90</th>\n",
       "      <th>energi135</th>\n",
       "      <th>homogenitas135</th>\n",
       "      <th>entropy135</th>\n",
       "      <th>contras135</th>\n",
       "      <th>dissimilarity135</th>\n",
       "      <th>ASM135</th>\n",
       "      <th>correlation135</th>\n",
       "      <th>labels</th>\n",
       "    </tr>\n",
       "  </thead>\n",
       "  <tbody>\n",
       "    <tr>\n",
       "      <th>0</th>\n",
       "      <td>001.jpg</td>\n",
       "      <td>0.000447</td>\n",
       "      <td>0.318554</td>\n",
       "      <td>12.015117</td>\n",
       "      <td>3.430501e+08</td>\n",
       "      <td>3.221129e+06</td>\n",
       "      <td>0.000447</td>\n",
       "      <td>0.974332</td>\n",
       "      <td>0.000279</td>\n",
       "      <td>0.235454</td>\n",
       "      <td>...</td>\n",
       "      <td>0.000384</td>\n",
       "      <td>0.969895</td>\n",
       "      <td>0.000284</td>\n",
       "      <td>0.235002</td>\n",
       "      <td>12.518801</td>\n",
       "      <td>3.430501e+08</td>\n",
       "      <td>3.221129e+06</td>\n",
       "      <td>0.000284</td>\n",
       "      <td>0.958452</td>\n",
       "      <td>WHIMBREL</td>\n",
       "    </tr>\n",
       "    <tr>\n",
       "      <th>1</th>\n",
       "      <td>002.jpg</td>\n",
       "      <td>0.001673</td>\n",
       "      <td>0.384694</td>\n",
       "      <td>10.633074</td>\n",
       "      <td>4.121540e+08</td>\n",
       "      <td>3.696449e+06</td>\n",
       "      <td>0.001673</td>\n",
       "      <td>0.954072</td>\n",
       "      <td>0.001128</td>\n",
       "      <td>0.287185</td>\n",
       "      <td>...</td>\n",
       "      <td>0.001849</td>\n",
       "      <td>0.950946</td>\n",
       "      <td>0.001124</td>\n",
       "      <td>0.286796</td>\n",
       "      <td>11.142635</td>\n",
       "      <td>4.121540e+08</td>\n",
       "      <td>3.696449e+06</td>\n",
       "      <td>0.001124</td>\n",
       "      <td>0.914323</td>\n",
       "      <td>WHIMBREL</td>\n",
       "    </tr>\n",
       "    <tr>\n",
       "      <th>2</th>\n",
       "      <td>003.jpg</td>\n",
       "      <td>0.011880</td>\n",
       "      <td>0.582483</td>\n",
       "      <td>8.417455</td>\n",
       "      <td>2.613666e+08</td>\n",
       "      <td>2.626801e+06</td>\n",
       "      <td>0.011880</td>\n",
       "      <td>0.981656</td>\n",
       "      <td>0.008640</td>\n",
       "      <td>0.477137</td>\n",
       "      <td>...</td>\n",
       "      <td>0.010689</td>\n",
       "      <td>0.974720</td>\n",
       "      <td>0.008024</td>\n",
       "      <td>0.460935</td>\n",
       "      <td>9.074779</td>\n",
       "      <td>2.613666e+08</td>\n",
       "      <td>2.626801e+06</td>\n",
       "      <td>0.008024</td>\n",
       "      <td>0.961237</td>\n",
       "      <td>WHIMBREL</td>\n",
       "    </tr>\n",
       "    <tr>\n",
       "      <th>3</th>\n",
       "      <td>004.jpg</td>\n",
       "      <td>0.077784</td>\n",
       "      <td>0.714430</td>\n",
       "      <td>6.513417</td>\n",
       "      <td>5.437919e+08</td>\n",
       "      <td>4.550561e+06</td>\n",
       "      <td>0.077784</td>\n",
       "      <td>0.970467</td>\n",
       "      <td>0.067555</td>\n",
       "      <td>0.660109</td>\n",
       "      <td>...</td>\n",
       "      <td>0.082924</td>\n",
       "      <td>0.964896</td>\n",
       "      <td>0.067371</td>\n",
       "      <td>0.657752</td>\n",
       "      <td>6.826649</td>\n",
       "      <td>5.437919e+08</td>\n",
       "      <td>4.550561e+06</td>\n",
       "      <td>0.067371</td>\n",
       "      <td>0.948721</td>\n",
       "      <td>WHIMBREL</td>\n",
       "    </tr>\n",
       "    <tr>\n",
       "      <th>4</th>\n",
       "      <td>005.jpg</td>\n",
       "      <td>0.001040</td>\n",
       "      <td>0.409684</td>\n",
       "      <td>11.298358</td>\n",
       "      <td>4.663929e+08</td>\n",
       "      <td>4.055591e+06</td>\n",
       "      <td>0.001040</td>\n",
       "      <td>0.975162</td>\n",
       "      <td>0.000528</td>\n",
       "      <td>0.264864</td>\n",
       "      <td>...</td>\n",
       "      <td>0.000655</td>\n",
       "      <td>0.966756</td>\n",
       "      <td>0.000547</td>\n",
       "      <td>0.271258</td>\n",
       "      <td>12.017878</td>\n",
       "      <td>4.663929e+08</td>\n",
       "      <td>4.055591e+06</td>\n",
       "      <td>0.000547</td>\n",
       "      <td>0.953217</td>\n",
       "      <td>WHIMBREL</td>\n",
       "    </tr>\n",
       "    <tr>\n",
       "      <th>...</th>\n",
       "      <td>...</td>\n",
       "      <td>...</td>\n",
       "      <td>...</td>\n",
       "      <td>...</td>\n",
       "      <td>...</td>\n",
       "      <td>...</td>\n",
       "      <td>...</td>\n",
       "      <td>...</td>\n",
       "      <td>...</td>\n",
       "      <td>...</td>\n",
       "      <td>...</td>\n",
       "      <td>...</td>\n",
       "      <td>...</td>\n",
       "      <td>...</td>\n",
       "      <td>...</td>\n",
       "      <td>...</td>\n",
       "      <td>...</td>\n",
       "      <td>...</td>\n",
       "      <td>...</td>\n",
       "      <td>...</td>\n",
       "      <td>...</td>\n",
       "    </tr>\n",
       "    <tr>\n",
       "      <th>295</th>\n",
       "      <td>31.jpg</td>\n",
       "      <td>0.003363</td>\n",
       "      <td>0.528939</td>\n",
       "      <td>10.681075</td>\n",
       "      <td>6.721158e+08</td>\n",
       "      <td>5.334253e+06</td>\n",
       "      <td>0.003363</td>\n",
       "      <td>0.968662</td>\n",
       "      <td>0.002530</td>\n",
       "      <td>0.450024</td>\n",
       "      <td>...</td>\n",
       "      <td>0.003336</td>\n",
       "      <td>0.969580</td>\n",
       "      <td>0.002560</td>\n",
       "      <td>0.445607</td>\n",
       "      <td>11.186736</td>\n",
       "      <td>6.721158e+08</td>\n",
       "      <td>5.334253e+06</td>\n",
       "      <td>0.002560</td>\n",
       "      <td>0.943677</td>\n",
       "      <td>ZEBRA DOVE</td>\n",
       "    </tr>\n",
       "    <tr>\n",
       "      <th>296</th>\n",
       "      <td>32.jpg</td>\n",
       "      <td>0.004001</td>\n",
       "      <td>0.493780</td>\n",
       "      <td>9.863000</td>\n",
       "      <td>5.169981e+08</td>\n",
       "      <td>4.381341e+06</td>\n",
       "      <td>0.004001</td>\n",
       "      <td>0.943006</td>\n",
       "      <td>0.003040</td>\n",
       "      <td>0.417567</td>\n",
       "      <td>...</td>\n",
       "      <td>0.004171</td>\n",
       "      <td>0.941893</td>\n",
       "      <td>0.002892</td>\n",
       "      <td>0.400847</td>\n",
       "      <td>10.344734</td>\n",
       "      <td>5.169981e+08</td>\n",
       "      <td>4.381341e+06</td>\n",
       "      <td>0.002892</td>\n",
       "      <td>0.902608</td>\n",
       "      <td>ZEBRA DOVE</td>\n",
       "    </tr>\n",
       "    <tr>\n",
       "      <th>297</th>\n",
       "      <td>33.jpg</td>\n",
       "      <td>0.002139</td>\n",
       "      <td>0.378687</td>\n",
       "      <td>10.471873</td>\n",
       "      <td>4.347845e+08</td>\n",
       "      <td>3.847651e+06</td>\n",
       "      <td>0.002139</td>\n",
       "      <td>0.930608</td>\n",
       "      <td>0.001399</td>\n",
       "      <td>0.282954</td>\n",
       "      <td>...</td>\n",
       "      <td>0.002098</td>\n",
       "      <td>0.925934</td>\n",
       "      <td>0.001414</td>\n",
       "      <td>0.284324</td>\n",
       "      <td>10.936654</td>\n",
       "      <td>4.347845e+08</td>\n",
       "      <td>3.847651e+06</td>\n",
       "      <td>0.001414</td>\n",
       "      <td>0.882123</td>\n",
       "      <td>ZEBRA DOVE</td>\n",
       "    </tr>\n",
       "    <tr>\n",
       "      <th>298</th>\n",
       "      <td>34.jpg</td>\n",
       "      <td>0.002716</td>\n",
       "      <td>0.521190</td>\n",
       "      <td>10.771448</td>\n",
       "      <td>6.203395e+08</td>\n",
       "      <td>5.022993e+06</td>\n",
       "      <td>0.002716</td>\n",
       "      <td>0.980824</td>\n",
       "      <td>0.001950</td>\n",
       "      <td>0.414112</td>\n",
       "      <td>...</td>\n",
       "      <td>0.002299</td>\n",
       "      <td>0.980319</td>\n",
       "      <td>0.001896</td>\n",
       "      <td>0.395917</td>\n",
       "      <td>11.479165</td>\n",
       "      <td>6.203395e+08</td>\n",
       "      <td>5.022993e+06</td>\n",
       "      <td>0.001896</td>\n",
       "      <td>0.957606</td>\n",
       "      <td>ZEBRA DOVE</td>\n",
       "    </tr>\n",
       "    <tr>\n",
       "      <th>299</th>\n",
       "      <td>35.jpg</td>\n",
       "      <td>0.000374</td>\n",
       "      <td>0.255574</td>\n",
       "      <td>12.380827</td>\n",
       "      <td>4.583343e+08</td>\n",
       "      <td>4.002921e+06</td>\n",
       "      <td>0.000374</td>\n",
       "      <td>0.928764</td>\n",
       "      <td>0.000278</td>\n",
       "      <td>0.207538</td>\n",
       "      <td>...</td>\n",
       "      <td>0.000477</td>\n",
       "      <td>0.930990</td>\n",
       "      <td>0.000263</td>\n",
       "      <td>0.196248</td>\n",
       "      <td>12.774786</td>\n",
       "      <td>4.583343e+08</td>\n",
       "      <td>4.002921e+06</td>\n",
       "      <td>0.000263</td>\n",
       "      <td>0.885535</td>\n",
       "      <td>ZEBRA DOVE</td>\n",
       "    </tr>\n",
       "  </tbody>\n",
       "</table>\n",
       "<p>300 rows × 30 columns</p>\n",
       "</div>"
      ],
      "text/plain": [
       "        path   energi0  homogenitas0   entropy0      contras0  dissimilarity0  \\\n",
       "0    001.jpg  0.000447      0.318554  12.015117  3.430501e+08    3.221129e+06   \n",
       "1    002.jpg  0.001673      0.384694  10.633074  4.121540e+08    3.696449e+06   \n",
       "2    003.jpg  0.011880      0.582483   8.417455  2.613666e+08    2.626801e+06   \n",
       "3    004.jpg  0.077784      0.714430   6.513417  5.437919e+08    4.550561e+06   \n",
       "4    005.jpg  0.001040      0.409684  11.298358  4.663929e+08    4.055591e+06   \n",
       "..       ...       ...           ...        ...           ...             ...   \n",
       "295   31.jpg  0.003363      0.528939  10.681075  6.721158e+08    5.334253e+06   \n",
       "296   32.jpg  0.004001      0.493780   9.863000  5.169981e+08    4.381341e+06   \n",
       "297   33.jpg  0.002139      0.378687  10.471873  4.347845e+08    3.847651e+06   \n",
       "298   34.jpg  0.002716      0.521190  10.771448  6.203395e+08    5.022993e+06   \n",
       "299   35.jpg  0.000374      0.255574  12.380827  4.583343e+08    4.002921e+06   \n",
       "\n",
       "         ASM0  correlation0  energi45  homogenitas45  ...     ASM90  \\\n",
       "0    0.000447      0.974332  0.000279       0.235454  ...  0.000384   \n",
       "1    0.001673      0.954072  0.001128       0.287185  ...  0.001849   \n",
       "2    0.011880      0.981656  0.008640       0.477137  ...  0.010689   \n",
       "3    0.077784      0.970467  0.067555       0.660109  ...  0.082924   \n",
       "4    0.001040      0.975162  0.000528       0.264864  ...  0.000655   \n",
       "..        ...           ...       ...            ...  ...       ...   \n",
       "295  0.003363      0.968662  0.002530       0.450024  ...  0.003336   \n",
       "296  0.004001      0.943006  0.003040       0.417567  ...  0.004171   \n",
       "297  0.002139      0.930608  0.001399       0.282954  ...  0.002098   \n",
       "298  0.002716      0.980824  0.001950       0.414112  ...  0.002299   \n",
       "299  0.000374      0.928764  0.000278       0.207538  ...  0.000477   \n",
       "\n",
       "     correlation90  energi135  homogenitas135  entropy135    contras135  \\\n",
       "0         0.969895   0.000284        0.235002   12.518801  3.430501e+08   \n",
       "1         0.950946   0.001124        0.286796   11.142635  4.121540e+08   \n",
       "2         0.974720   0.008024        0.460935    9.074779  2.613666e+08   \n",
       "3         0.964896   0.067371        0.657752    6.826649  5.437919e+08   \n",
       "4         0.966756   0.000547        0.271258   12.017878  4.663929e+08   \n",
       "..             ...        ...             ...         ...           ...   \n",
       "295       0.969580   0.002560        0.445607   11.186736  6.721158e+08   \n",
       "296       0.941893   0.002892        0.400847   10.344734  5.169981e+08   \n",
       "297       0.925934   0.001414        0.284324   10.936654  4.347845e+08   \n",
       "298       0.980319   0.001896        0.395917   11.479165  6.203395e+08   \n",
       "299       0.930990   0.000263        0.196248   12.774786  4.583343e+08   \n",
       "\n",
       "     dissimilarity135    ASM135  correlation135      labels  \n",
       "0        3.221129e+06  0.000284        0.958452    WHIMBREL  \n",
       "1        3.696449e+06  0.001124        0.914323    WHIMBREL  \n",
       "2        2.626801e+06  0.008024        0.961237    WHIMBREL  \n",
       "3        4.550561e+06  0.067371        0.948721    WHIMBREL  \n",
       "4        4.055591e+06  0.000547        0.953217    WHIMBREL  \n",
       "..                ...       ...             ...         ...  \n",
       "295      5.334253e+06  0.002560        0.943677  ZEBRA DOVE  \n",
       "296      4.381341e+06  0.002892        0.902608  ZEBRA DOVE  \n",
       "297      3.847651e+06  0.001414        0.882123  ZEBRA DOVE  \n",
       "298      5.022993e+06  0.001896        0.957606  ZEBRA DOVE  \n",
       "299      4.002921e+06  0.000263        0.885535  ZEBRA DOVE  \n",
       "\n",
       "[300 rows x 30 columns]"
      ]
     },
     "execution_count": 90,
     "metadata": {},
     "output_type": "execute_result"
    }
   ],
   "source": [
    "df"
   ]
  },
  {
   "attachments": {},
   "cell_type": "markdown",
   "metadata": {},
   "source": [
    "Code di atas digunakan untuk menampilkan data yang sudah disimpan dalam file csv."
   ]
  }
 ],
 "metadata": {
  "kernelspec": {
   "display_name": "Python 3.9.7 ('base')",
   "language": "python",
   "name": "python3"
  },
  "language_info": {
   "codemirror_mode": {
    "name": "ipython",
    "version": 3
   },
   "file_extension": ".py",
   "mimetype": "text/x-python",
   "name": "python",
   "nbconvert_exporter": "python",
   "pygments_lexer": "ipython3",
   "version": "3.11.3"
  },
  "orig_nbformat": 4,
  "vscode": {
   "interpreter": {
    "hash": "8ef3bee88e20d0e1eeecf58962fcb909620f180a67618f5353994f475c82e5b4"
   }
  }
 },
 "nbformat": 4,
 "nbformat_minor": 2
}
