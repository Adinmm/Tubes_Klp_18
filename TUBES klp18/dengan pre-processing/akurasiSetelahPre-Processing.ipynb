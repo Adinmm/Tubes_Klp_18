{
 "cells": [
  {
   "cell_type": "code",
   "execution_count": 428,
   "metadata": {},
   "outputs": [],
   "source": [
    "import pandas as pd\n",
    "from sklearn.model_selection import train_test_split\n",
    "from sklearn.ensemble import RandomForestClassifier\n",
    "from sklearn.metrics import accuracy_score, classification_report"
   ]
  },
  {
   "attachments": {},
   "cell_type": "markdown",
   "metadata": {},
   "source": [
    "Code di atas ini digunakan untuk meng-import beberapa modul python yaitu:\n",
    "\n",
    "pandas (pd): Pustaka ini menyediakan struktur data dan alat analisis data yang efisien. Dalam kode ini, mungkin digunakan untuk membaca, memanipulasi, dan menganalisis data tabular dalam format dataframe.\n",
    "\n",
    "from sklearn.model_selection import train_test_split: Mengimpor fungsi train_test_split dari pustaka sklearn.model_selection. Fungsi ini digunakan untuk membagi data menjadi subset pelatihan dan subset pengujian. Subset pelatihan digunakan untuk melatih model, sedangkan subset pengujian digunakan untuk menguji performa model.\n",
    "\n",
    "from sklearn.ensemble import RandomForestClassifier: Mengimpor kelas RandomForestClassifier dari pustaka sklearn.ensemble. Kelas ini merupakan implementasi algoritma Random Forest untuk melakukan klasifikasi pada data. Algoritma Random Forest adalah metode ensemble learning yang menggabungkan beberapa pohon keputusan (decision tree) untuk menghasilkan prediksi yang lebih akurat.\n",
    "\n",
    "from sklearn.metrics import accuracy_score, classification_report: Mengimpor fungsi accuracy_score dan classification_report dari pustaka sklearn.metrics. Fungsi accuracy_score digunakan untuk menghitung akurasi prediksi model, sedangkan fungsi classification_report digunakan untuk menghasilkan laporan klasifikasi yang mencakup metrik seperti presisi, recall, dan f1-score."
   ]
  },
  {
   "cell_type": "code",
   "execution_count": 429,
   "metadata": {},
   "outputs": [
    {
     "data": {
      "text/html": [
       "<div>\n",
       "<style scoped>\n",
       "    .dataframe tbody tr th:only-of-type {\n",
       "        vertical-align: middle;\n",
       "    }\n",
       "\n",
       "    .dataframe tbody tr th {\n",
       "        vertical-align: top;\n",
       "    }\n",
       "\n",
       "    .dataframe thead th {\n",
       "        text-align: right;\n",
       "    }\n",
       "</style>\n",
       "<table border=\"1\" class=\"dataframe\">\n",
       "  <thead>\n",
       "    <tr style=\"text-align: right;\">\n",
       "      <th></th>\n",
       "      <th>path</th>\n",
       "      <th>contrast_0</th>\n",
       "      <th>dissimilarity_0</th>\n",
       "      <th>homogeneity_0</th>\n",
       "      <th>energy_0</th>\n",
       "      <th>correlation_0</th>\n",
       "      <th>entropy_0</th>\n",
       "      <th>asm_0</th>\n",
       "      <th>contrast_45</th>\n",
       "      <th>dissimilarity_45</th>\n",
       "      <th>...</th>\n",
       "      <th>entropy_95</th>\n",
       "      <th>asm_90</th>\n",
       "      <th>contrast_135</th>\n",
       "      <th>dissimilarity_135</th>\n",
       "      <th>homogeneity_135</th>\n",
       "      <th>energy_135</th>\n",
       "      <th>correlation_135</th>\n",
       "      <th>entropy_135</th>\n",
       "      <th>asm_135</th>\n",
       "      <th>labels</th>\n",
       "    </tr>\n",
       "  </thead>\n",
       "  <tbody>\n",
       "    <tr>\n",
       "      <th>0</th>\n",
       "      <td>datasets/WHIMBREL\\001.jpg</td>\n",
       "      <td>154.730453</td>\n",
       "      <td>7.810110</td>\n",
       "      <td>0.276337</td>\n",
       "      <td>0.000272</td>\n",
       "      <td>0.970654</td>\n",
       "      <td>-3.555634e+07</td>\n",
       "      <td>4.155648e-09</td>\n",
       "      <td>322.558093</td>\n",
       "      <td>11.531534</td>\n",
       "      <td>...</td>\n",
       "      <td>-3.555634e+07</td>\n",
       "      <td>3.767395e-09</td>\n",
       "      <td>244.907236</td>\n",
       "      <td>10.321584</td>\n",
       "      <td>0.220400</td>\n",
       "      <td>0.000194</td>\n",
       "      <td>0.953622</td>\n",
       "      <td>-3.555634e+07</td>\n",
       "      <td>2.964360e-09</td>\n",
       "      <td>WHIMBREL</td>\n",
       "    </tr>\n",
       "    <tr>\n",
       "      <th>1</th>\n",
       "      <td>datasets/WHIMBREL\\002.jpg</td>\n",
       "      <td>130.456189</td>\n",
       "      <td>7.078002</td>\n",
       "      <td>0.288468</td>\n",
       "      <td>0.000847</td>\n",
       "      <td>0.935373</td>\n",
       "      <td>-4.454867e+07</td>\n",
       "      <td>1.292317e-08</td>\n",
       "      <td>222.894794</td>\n",
       "      <td>9.505021</td>\n",
       "      <td>...</td>\n",
       "      <td>-4.454867e+07</td>\n",
       "      <td>1.571699e-08</td>\n",
       "      <td>253.106482</td>\n",
       "      <td>9.943822</td>\n",
       "      <td>0.239968</td>\n",
       "      <td>0.000674</td>\n",
       "      <td>0.873471</td>\n",
       "      <td>-4.454867e+07</td>\n",
       "      <td>1.028512e-08</td>\n",
       "      <td>WHIMBREL</td>\n",
       "    </tr>\n",
       "    <tr>\n",
       "      <th>2</th>\n",
       "      <td>datasets/WHIMBREL\\003.jpg</td>\n",
       "      <td>86.177175</td>\n",
       "      <td>4.181679</td>\n",
       "      <td>0.484119</td>\n",
       "      <td>0.008592</td>\n",
       "      <td>0.983855</td>\n",
       "      <td>-7.321395e+07</td>\n",
       "      <td>1.310998e-07</td>\n",
       "      <td>191.790634</td>\n",
       "      <td>6.578885</td>\n",
       "      <td>...</td>\n",
       "      <td>-7.321395e+07</td>\n",
       "      <td>1.057961e-07</td>\n",
       "      <td>192.479462</td>\n",
       "      <td>6.851842</td>\n",
       "      <td>0.377665</td>\n",
       "      <td>0.005541</td>\n",
       "      <td>0.964021</td>\n",
       "      <td>-7.321395e+07</td>\n",
       "      <td>8.455556e-08</td>\n",
       "      <td>WHIMBREL</td>\n",
       "    </tr>\n",
       "    <tr>\n",
       "      <th>3</th>\n",
       "      <td>datasets/WHIMBREL\\004.jpg</td>\n",
       "      <td>75.794838</td>\n",
       "      <td>3.533287</td>\n",
       "      <td>0.625583</td>\n",
       "      <td>0.052887</td>\n",
       "      <td>0.965535</td>\n",
       "      <td>-5.753537e+07</td>\n",
       "      <td>8.069847e-07</td>\n",
       "      <td>141.466390</td>\n",
       "      <td>4.812180</td>\n",
       "      <td>...</td>\n",
       "      <td>-5.753537e+07</td>\n",
       "      <td>8.644951e-07</td>\n",
       "      <td>135.061253</td>\n",
       "      <td>4.846321</td>\n",
       "      <td>0.577024</td>\n",
       "      <td>0.043886</td>\n",
       "      <td>0.938816</td>\n",
       "      <td>-5.753537e+07</td>\n",
       "      <td>6.696530e-07</td>\n",
       "      <td>WHIMBREL</td>\n",
       "    </tr>\n",
       "    <tr>\n",
       "      <th>4</th>\n",
       "      <td>datasets/WHIMBREL\\005.jpg</td>\n",
       "      <td>129.662730</td>\n",
       "      <td>6.481143</td>\n",
       "      <td>0.375129</td>\n",
       "      <td>0.000829</td>\n",
       "      <td>0.970776</td>\n",
       "      <td>-4.867021e+07</td>\n",
       "      <td>1.264512e-08</td>\n",
       "      <td>282.901484</td>\n",
       "      <td>10.079246</td>\n",
       "      <td>...</td>\n",
       "      <td>-4.867021e+07</td>\n",
       "      <td>8.012366e-09</td>\n",
       "      <td>251.766874</td>\n",
       "      <td>9.480000</td>\n",
       "      <td>0.271859</td>\n",
       "      <td>0.000454</td>\n",
       "      <td>0.943424</td>\n",
       "      <td>-4.867021e+07</td>\n",
       "      <td>6.921443e-09</td>\n",
       "      <td>WHIMBREL</td>\n",
       "    </tr>\n",
       "  </tbody>\n",
       "</table>\n",
       "<p>5 rows × 30 columns</p>\n",
       "</div>"
      ],
      "text/plain": [
       "                        path  contrast_0  dissimilarity_0  homogeneity_0  \\\n",
       "0  datasets/WHIMBREL\\001.jpg  154.730453         7.810110       0.276337   \n",
       "1  datasets/WHIMBREL\\002.jpg  130.456189         7.078002       0.288468   \n",
       "2  datasets/WHIMBREL\\003.jpg   86.177175         4.181679       0.484119   \n",
       "3  datasets/WHIMBREL\\004.jpg   75.794838         3.533287       0.625583   \n",
       "4  datasets/WHIMBREL\\005.jpg  129.662730         6.481143       0.375129   \n",
       "\n",
       "   energy_0  correlation_0     entropy_0         asm_0  contrast_45  \\\n",
       "0  0.000272       0.970654 -3.555634e+07  4.155648e-09   322.558093   \n",
       "1  0.000847       0.935373 -4.454867e+07  1.292317e-08   222.894794   \n",
       "2  0.008592       0.983855 -7.321395e+07  1.310998e-07   191.790634   \n",
       "3  0.052887       0.965535 -5.753537e+07  8.069847e-07   141.466390   \n",
       "4  0.000829       0.970776 -4.867021e+07  1.264512e-08   282.901484   \n",
       "\n",
       "   dissimilarity_45  ...    entropy_95        asm_90  contrast_135  \\\n",
       "0         11.531534  ... -3.555634e+07  3.767395e-09    244.907236   \n",
       "1          9.505021  ... -4.454867e+07  1.571699e-08    253.106482   \n",
       "2          6.578885  ... -7.321395e+07  1.057961e-07    192.479462   \n",
       "3          4.812180  ... -5.753537e+07  8.644951e-07    135.061253   \n",
       "4         10.079246  ... -4.867021e+07  8.012366e-09    251.766874   \n",
       "\n",
       "   dissimilarity_135  homogeneity_135  energy_135  correlation_135  \\\n",
       "0          10.321584         0.220400    0.000194         0.953622   \n",
       "1           9.943822         0.239968    0.000674         0.873471   \n",
       "2           6.851842         0.377665    0.005541         0.964021   \n",
       "3           4.846321         0.577024    0.043886         0.938816   \n",
       "4           9.480000         0.271859    0.000454         0.943424   \n",
       "\n",
       "    entropy_135       asm_135    labels  \n",
       "0 -3.555634e+07  2.964360e-09  WHIMBREL  \n",
       "1 -4.454867e+07  1.028512e-08  WHIMBREL  \n",
       "2 -7.321395e+07  8.455556e-08  WHIMBREL  \n",
       "3 -5.753537e+07  6.696530e-07  WHIMBREL  \n",
       "4 -4.867021e+07  6.921443e-09  WHIMBREL  \n",
       "\n",
       "[5 rows x 30 columns]"
      ]
     },
     "execution_count": 429,
     "metadata": {},
     "output_type": "execute_result"
    }
   ],
   "source": [
    "data = pd.read_csv('hasil.csv')\n",
    "data.head(5)"
   ]
  },
  {
   "attachments": {},
   "cell_type": "markdown",
   "metadata": {},
   "source": [
    "Code di atas ini digunakan untuk membaca file CSV dengan nama 'dataset1.csv' menggunakan pustaka pandas (pd) dan menyimpan datanya ke dalam variabel data. Selanjutnya, fungsi head(5) digunakan untuk menampilkan 5 baris pertama dari data sebagai tampilan awal. Dengan demikian, data.head(5) akan menampilkan 5 baris pertama dari dataset yang telah dibaca."
   ]
  },
  {
   "cell_type": "code",
   "execution_count": 430,
   "metadata": {},
   "outputs": [],
   "source": [
    "y = data['labels']\n",
    "x = data.drop(['path', 'labels'], axis=1)"
   ]
  },
  {
   "attachments": {},
   "cell_type": "markdown",
   "metadata": {},
   "source": [
    "Code di atas digunakan untuk membagi dataset menjadi dua variabel: x dan y.\n",
    "\n",
    "Variabel x berisi dataset tanpa kolom 'path' dan 'labels', dengan menggunakan fungsi drop() pada objek data. Dengan menentukan axis=1, kita memastikan bahwa kolom tersebut akan dihapus dari dataset x.\n",
    "\n",
    "Variabel y berisi kolom 'labels' dari dataset, yang merupakan variabel target atau label yang ingin diprediksi.\n",
    "\n",
    "Dengan pemisahan ini, x akan berisi fitur-fitur yang digunakan untuk melakukan prediksi atau pemodelan, sedangkan y akan berisi label atau kelas yang ingin diprediksi."
   ]
  },
  {
   "cell_type": "code",
   "execution_count": 431,
   "metadata": {},
   "outputs": [],
   "source": [
    "rf_model = RandomForestClassifier()\n",
    "X_train, X_test, y_train, y_test = train_test_split(x, y, test_size=0.2, random_state=42)"
   ]
  },
  {
   "attachments": {},
   "cell_type": "markdown",
   "metadata": {},
   "source": [
    "Code di atas digunakan untuk melakukan beberapa hal sebagai langkah pra-pemodelan dengan menggunakan Random Forest Classifier dari pustaka sklearn:\n",
    "\n",
    "Membuat objek RandomForestClassifier dengan menggunakan nilai default.\n",
    "Menggunakan fungsi train_test_split() dari pustaka sklearn.model_selection untuk membagi dataset menjadi data latih (train) dan data uji (test). Parameter X_train akan berisi data fitur latih, X_test akan berisi data fitur uji, y_train akan berisi label latih, dan y_test akan berisi label uji.\n",
    "Data latih dan data uji dibagi dengan perbandingan 80:20 menggunakan test_size=0.2, yang berarti 80% data akan digunakan untuk pelatihan dan 20% data akan digunakan untuk pengujian.\n",
    "Argumen random_state=42 digunakan untuk menghasilkan pembagian yang sama setiap kali kode dijalankan, sehingga memastikan hasil yang konsisten dalam pengujian ulang."
   ]
  },
  {
   "cell_type": "code",
   "execution_count": 432,
   "metadata": {},
   "outputs": [],
   "source": [
    "rf_model.fit(X_train, y_train)\n",
    "rf_pred= rf_model.predict(X_test)"
   ]
  },
  {
   "attachments": {},
   "cell_type": "markdown",
   "metadata": {},
   "source": [
    "Code di atas digunakan melatih model Random Forest menggunakan data latih (X_train dan y_train) dengan memanggil metode fit() dari objek RandomForestClassifier. Setelah model dilatih, digunakan untuk melakukan prediksi pada data uji (X_test) dengan memanggil metode predict() dari objek RandomForestClassifier. Hasil prediksi disimpan dalam variabel rf_pred."
   ]
  },
  {
   "cell_type": "code",
   "execution_count": 433,
   "metadata": {},
   "outputs": [],
   "source": [
    "rf_accuracy = accuracy_score(y_test, rf_pred)\n",
    "rf_report = classification_report(y_test, rf_pred)"
   ]
  },
  {
   "attachments": {},
   "cell_type": "markdown",
   "metadata": {},
   "source": [
    "Code di atas digunakan untuk menghitung akurasi model Random Forest dengan membandingkan label yang sebenarnya (y_test) dengan hasil prediksi (rf_pred) menggunakan fungsi accuracy_score() dari modul sklearn.metrics. Hasil akurasi disimpan dalam variabel rf_accuracy.\n",
    "\n",
    "Selain itu, kode juga menghasilkan laporan klasifikasi (classification_report) yang menyediakan informasi seperti precision, recall, dan f1-score untuk setiap kelas. Laporan klasifikasi ini dibuat dengan membandingkan label yang sebenarnya (y_test) dengan hasil prediksi (rf_pred) menggunakan fungsi classification_report() dari modul sklearn.metrics. Hasil laporan klasifikasi disimpan dalam variabel rf_report."
   ]
  },
  {
   "cell_type": "code",
   "execution_count": 434,
   "metadata": {},
   "outputs": [
    {
     "name": "stdout",
     "output_type": "stream",
     "text": [
      "Random Forest Accuracy: 75.24752475247524 %\n",
      "Random Forest Classification Report:\n",
      "               precision    recall  f1-score   support\n",
      "\n",
      "    WHIMBREL       0.79      0.72      0.75        32\n",
      "     WRENTIT       0.63      0.79      0.70        28\n",
      "  ZEBRA DOVE       0.84      0.76      0.79        41\n",
      "\n",
      "    accuracy                           0.75       101\n",
      "   macro avg       0.75      0.75      0.75       101\n",
      "weighted avg       0.77      0.75      0.76       101\n",
      "\n"
     ]
    }
   ],
   "source": [
    "print(\"Random Forest Accuracy:\", rf_accuracy * 100, \"%\")\n",
    "print(\"Random Forest Classification Report:\\n\", rf_report)"
   ]
  }
 ],
 "metadata": {
  "kernelspec": {
   "display_name": "Python 3",
   "language": "python",
   "name": "python3"
  },
  "language_info": {
   "codemirror_mode": {
    "name": "ipython",
    "version": 3
   },
   "file_extension": ".py",
   "mimetype": "text/x-python",
   "name": "python",
   "nbconvert_exporter": "python",
   "pygments_lexer": "ipython3",
   "version": "3.11.3"
  },
  "orig_nbformat": 4
 },
 "nbformat": 4,
 "nbformat_minor": 2
}
