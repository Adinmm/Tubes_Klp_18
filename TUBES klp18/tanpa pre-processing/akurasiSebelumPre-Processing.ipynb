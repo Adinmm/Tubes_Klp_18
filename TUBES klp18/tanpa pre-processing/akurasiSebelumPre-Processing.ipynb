{
 "cells": [
  {
   "cell_type": "code",
   "execution_count": 64,
   "metadata": {},
   "outputs": [],
   "source": [
    "import pandas as pd\n",
    "from sklearn.model_selection import train_test_split\n",
    "from sklearn.ensemble import RandomForestClassifier\n",
    "from sklearn.metrics import accuracy_score, classification_report"
   ]
  },
  {
   "attachments": {},
   "cell_type": "markdown",
   "metadata": {},
   "source": [
    "Code di atas ini digunakan untuk meng-import beberapa modul python yaitu:\n",
    "\n",
    "pandas (pd): Pustaka ini menyediakan struktur data dan alat analisis data yang efisien. Dalam kode ini, mungkin digunakan untuk membaca, memanipulasi, dan menganalisis data tabular dalam format dataframe.\n",
    "\n",
    "from sklearn.model_selection import train_test_split: Mengimpor fungsi train_test_split dari pustaka sklearn.model_selection. Fungsi ini digunakan untuk membagi data menjadi subset pelatihan dan subset pengujian. Subset pelatihan digunakan untuk melatih model, sedangkan subset pengujian digunakan untuk menguji performa model.\n",
    "\n",
    "from sklearn.ensemble import RandomForestClassifier: Mengimpor kelas RandomForestClassifier dari pustaka sklearn.ensemble. Kelas ini merupakan implementasi algoritma Random Forest untuk melakukan klasifikasi pada data. Algoritma Random Forest adalah metode ensemble learning yang menggabungkan beberapa pohon keputusan (decision tree) untuk menghasilkan prediksi yang lebih akurat.\n",
    "\n",
    "from sklearn.metrics import accuracy_score, classification_report: Mengimpor fungsi accuracy_score dan classification_report dari pustaka sklearn.metrics. Fungsi accuracy_score digunakan untuk menghitung akurasi prediksi model, sedangkan fungsi classification_report digunakan untuk menghasilkan laporan klasifikasi yang mencakup metrik seperti presisi, recall, dan f1-score."
   ]
  },
  {
   "cell_type": "code",
   "execution_count": 65,
   "metadata": {},
   "outputs": [
    {
     "data": {
      "text/html": [
       "<div>\n",
       "<style scoped>\n",
       "    .dataframe tbody tr th:only-of-type {\n",
       "        vertical-align: middle;\n",
       "    }\n",
       "\n",
       "    .dataframe tbody tr th {\n",
       "        vertical-align: top;\n",
       "    }\n",
       "\n",
       "    .dataframe thead th {\n",
       "        text-align: right;\n",
       "    }\n",
       "</style>\n",
       "<table border=\"1\" class=\"dataframe\">\n",
       "  <thead>\n",
       "    <tr style=\"text-align: right;\">\n",
       "      <th></th>\n",
       "      <th>path</th>\n",
       "      <th>energi0</th>\n",
       "      <th>homogenitas0</th>\n",
       "      <th>entropy0</th>\n",
       "      <th>contras0</th>\n",
       "      <th>dissimilarity0</th>\n",
       "      <th>ASM0</th>\n",
       "      <th>correlation0</th>\n",
       "      <th>energi45</th>\n",
       "      <th>homogenitas45</th>\n",
       "      <th>...</th>\n",
       "      <th>ASM90</th>\n",
       "      <th>correlation90</th>\n",
       "      <th>energi135</th>\n",
       "      <th>homogenitas135</th>\n",
       "      <th>entropy135</th>\n",
       "      <th>contras135</th>\n",
       "      <th>dissimilarity135</th>\n",
       "      <th>ASM135</th>\n",
       "      <th>correlation135</th>\n",
       "      <th>labels</th>\n",
       "    </tr>\n",
       "  </thead>\n",
       "  <tbody>\n",
       "    <tr>\n",
       "      <th>0</th>\n",
       "      <td>001.jpg</td>\n",
       "      <td>0.000194</td>\n",
       "      <td>0.170211</td>\n",
       "      <td>12.963168</td>\n",
       "      <td>6.721158e+08</td>\n",
       "      <td>5.334253e+06</td>\n",
       "      <td>0.000194</td>\n",
       "      <td>0.942636</td>\n",
       "      <td>0.000141</td>\n",
       "      <td>0.128192</td>\n",
       "      <td>...</td>\n",
       "      <td>0.000179</td>\n",
       "      <td>0.941605</td>\n",
       "      <td>0.000145</td>\n",
       "      <td>0.126508</td>\n",
       "      <td>13.294618</td>\n",
       "      <td>6.721158e+08</td>\n",
       "      <td>5.334253e+06</td>\n",
       "      <td>0.000145</td>\n",
       "      <td>0.921499</td>\n",
       "      <td>WHIMBREL</td>\n",
       "    </tr>\n",
       "    <tr>\n",
       "      <th>1</th>\n",
       "      <td>002.jpg</td>\n",
       "      <td>0.000316</td>\n",
       "      <td>0.164026</td>\n",
       "      <td>12.500038</td>\n",
       "      <td>5.169981e+08</td>\n",
       "      <td>4.381341e+06</td>\n",
       "      <td>0.000316</td>\n",
       "      <td>0.924578</td>\n",
       "      <td>0.000263</td>\n",
       "      <td>0.134680</td>\n",
       "      <td>...</td>\n",
       "      <td>0.000379</td>\n",
       "      <td>0.919564</td>\n",
       "      <td>0.000259</td>\n",
       "      <td>0.132027</td>\n",
       "      <td>12.858686</td>\n",
       "      <td>5.169981e+08</td>\n",
       "      <td>4.381341e+06</td>\n",
       "      <td>0.000259</td>\n",
       "      <td>0.864844</td>\n",
       "      <td>WHIMBREL</td>\n",
       "    </tr>\n",
       "    <tr>\n",
       "      <th>2</th>\n",
       "      <td>003.jpg</td>\n",
       "      <td>0.005178</td>\n",
       "      <td>0.405099</td>\n",
       "      <td>9.557777</td>\n",
       "      <td>2.886416e+08</td>\n",
       "      <td>2.829821e+06</td>\n",
       "      <td>0.005178</td>\n",
       "      <td>0.972577</td>\n",
       "      <td>0.003567</td>\n",
       "      <td>0.313183</td>\n",
       "      <td>...</td>\n",
       "      <td>0.004100</td>\n",
       "      <td>0.961627</td>\n",
       "      <td>0.003338</td>\n",
       "      <td>0.297453</td>\n",
       "      <td>10.219217</td>\n",
       "      <td>2.886416e+08</td>\n",
       "      <td>2.829821e+06</td>\n",
       "      <td>0.003338</td>\n",
       "      <td>0.942982</td>\n",
       "      <td>WHIMBREL</td>\n",
       "    </tr>\n",
       "    <tr>\n",
       "      <th>3</th>\n",
       "      <td>004.jpg</td>\n",
       "      <td>0.012162</td>\n",
       "      <td>0.539957</td>\n",
       "      <td>9.037738</td>\n",
       "      <td>7.158170e+08</td>\n",
       "      <td>5.592321e+06</td>\n",
       "      <td>0.012162</td>\n",
       "      <td>0.950475</td>\n",
       "      <td>0.009946</td>\n",
       "      <td>0.489235</td>\n",
       "      <td>...</td>\n",
       "      <td>0.013394</td>\n",
       "      <td>0.950408</td>\n",
       "      <td>0.009960</td>\n",
       "      <td>0.487698</td>\n",
       "      <td>9.309575</td>\n",
       "      <td>7.158170e+08</td>\n",
       "      <td>5.592321e+06</td>\n",
       "      <td>0.009960</td>\n",
       "      <td>0.920344</td>\n",
       "      <td>WHIMBREL</td>\n",
       "    </tr>\n",
       "    <tr>\n",
       "      <th>4</th>\n",
       "      <td>005.jpg</td>\n",
       "      <td>0.000528</td>\n",
       "      <td>0.269089</td>\n",
       "      <td>12.332282</td>\n",
       "      <td>6.203395e+08</td>\n",
       "      <td>5.022993e+06</td>\n",
       "      <td>0.000528</td>\n",
       "      <td>0.945871</td>\n",
       "      <td>0.000295</td>\n",
       "      <td>0.169609</td>\n",
       "      <td>...</td>\n",
       "      <td>0.000341</td>\n",
       "      <td>0.930130</td>\n",
       "      <td>0.000299</td>\n",
       "      <td>0.170891</td>\n",
       "      <td>12.887271</td>\n",
       "      <td>6.203395e+08</td>\n",
       "      <td>5.022993e+06</td>\n",
       "      <td>0.000299</td>\n",
       "      <td>0.907454</td>\n",
       "      <td>WHIMBREL</td>\n",
       "    </tr>\n",
       "  </tbody>\n",
       "</table>\n",
       "<p>5 rows × 30 columns</p>\n",
       "</div>"
      ],
      "text/plain": [
       "      path   energi0  homogenitas0   entropy0      contras0  dissimilarity0  \\\n",
       "0  001.jpg  0.000194      0.170211  12.963168  6.721158e+08    5.334253e+06   \n",
       "1  002.jpg  0.000316      0.164026  12.500038  5.169981e+08    4.381341e+06   \n",
       "2  003.jpg  0.005178      0.405099   9.557777  2.886416e+08    2.829821e+06   \n",
       "3  004.jpg  0.012162      0.539957   9.037738  7.158170e+08    5.592321e+06   \n",
       "4  005.jpg  0.000528      0.269089  12.332282  6.203395e+08    5.022993e+06   \n",
       "\n",
       "       ASM0  correlation0  energi45  homogenitas45  ...     ASM90  \\\n",
       "0  0.000194      0.942636  0.000141       0.128192  ...  0.000179   \n",
       "1  0.000316      0.924578  0.000263       0.134680  ...  0.000379   \n",
       "2  0.005178      0.972577  0.003567       0.313183  ...  0.004100   \n",
       "3  0.012162      0.950475  0.009946       0.489235  ...  0.013394   \n",
       "4  0.000528      0.945871  0.000295       0.169609  ...  0.000341   \n",
       "\n",
       "   correlation90  energi135  homogenitas135  entropy135    contras135  \\\n",
       "0       0.941605   0.000145        0.126508   13.294618  6.721158e+08   \n",
       "1       0.919564   0.000259        0.132027   12.858686  5.169981e+08   \n",
       "2       0.961627   0.003338        0.297453   10.219217  2.886416e+08   \n",
       "3       0.950408   0.009960        0.487698    9.309575  7.158170e+08   \n",
       "4       0.930130   0.000299        0.170891   12.887271  6.203395e+08   \n",
       "\n",
       "   dissimilarity135    ASM135  correlation135    labels  \n",
       "0      5.334253e+06  0.000145        0.921499  WHIMBREL  \n",
       "1      4.381341e+06  0.000259        0.864844  WHIMBREL  \n",
       "2      2.829821e+06  0.003338        0.942982  WHIMBREL  \n",
       "3      5.592321e+06  0.009960        0.920344  WHIMBREL  \n",
       "4      5.022993e+06  0.000299        0.907454  WHIMBREL  \n",
       "\n",
       "[5 rows x 30 columns]"
      ]
     },
     "execution_count": 65,
     "metadata": {},
     "output_type": "execute_result"
    }
   ],
   "source": [
    "data = pd.read_csv('dataset1.csv')\n",
    "data.head(5)"
   ]
  },
  {
   "attachments": {},
   "cell_type": "markdown",
   "metadata": {},
   "source": [
    "Code di atas ini digunakan untuk membaca file CSV dengan nama 'dataset1.csv' menggunakan pustaka pandas (pd) dan menyimpan datanya ke dalam variabel data. Selanjutnya, fungsi head(5) digunakan untuk menampilkan 5 baris pertama dari data sebagai tampilan awal. Dengan demikian, data.head(5) akan menampilkan 5 baris pertama dari dataset yang telah dibaca."
   ]
  },
  {
   "cell_type": "code",
   "execution_count": 66,
   "metadata": {},
   "outputs": [],
   "source": [
    "y = data['labels']\n",
    "x = data.drop(['path', 'labels'], axis=1)"
   ]
  },
  {
   "attachments": {},
   "cell_type": "markdown",
   "metadata": {},
   "source": [
    "Code di atas digunakan untuk membagi dataset menjadi dua variabel: x dan y.\n",
    "\n",
    "Variabel x berisi dataset tanpa kolom 'path' dan 'labels', dengan menggunakan fungsi drop() pada objek data. Dengan menentukan axis=1, kita memastikan bahwa kolom tersebut akan dihapus dari dataset x.\n",
    "\n",
    "Variabel y berisi kolom 'labels' dari dataset, yang merupakan variabel target atau label yang ingin diprediksi.\n",
    "\n",
    "Dengan pemisahan ini, x akan berisi fitur-fitur yang digunakan untuk melakukan prediksi atau pemodelan, sedangkan y akan berisi label atau kelas yang ingin diprediksi."
   ]
  },
  {
   "cell_type": "code",
   "execution_count": 67,
   "metadata": {},
   "outputs": [],
   "source": [
    "rf_model = RandomForestClassifier()\n",
    "X_train, X_test, y_train, y_test = train_test_split(x, y, test_size=0.2, random_state=42)"
   ]
  },
  {
   "attachments": {},
   "cell_type": "markdown",
   "metadata": {},
   "source": [
    "Code di atas digunakan untuk melakukan beberapa hal sebagai langkah pra-pemodelan dengan menggunakan Random Forest Classifier dari pustaka sklearn:\n",
    "\n",
    "Membuat objek RandomForestClassifier dengan menggunakan nilai default.\n",
    "Menggunakan fungsi train_test_split() dari pustaka sklearn.model_selection untuk membagi dataset menjadi data latih (train) dan data uji (test). Parameter X_train akan berisi data fitur latih, X_test akan berisi data fitur uji, y_train akan berisi label latih, dan y_test akan berisi label uji.\n",
    "Data latih dan data uji dibagi dengan perbandingan 80:20 menggunakan test_size=0.2, yang berarti 80% data akan digunakan untuk pelatihan dan 20% data akan digunakan untuk pengujian.\n",
    "Argumen random_state=42 digunakan untuk menghasilkan pembagian yang sama setiap kali kode dijalankan, sehingga memastikan hasil yang konsisten dalam pengujian ulang."
   ]
  },
  {
   "cell_type": "code",
   "execution_count": 68,
   "metadata": {},
   "outputs": [],
   "source": [
    "rf_model.fit(X_train, y_train)\n",
    "rf_pred= rf_model.predict(X_test)"
   ]
  },
  {
   "attachments": {},
   "cell_type": "markdown",
   "metadata": {},
   "source": [
    "Code di atas digunakan melatih model Random Forest menggunakan data latih (X_train dan y_train) dengan memanggil metode fit() dari objek RandomForestClassifier. Setelah model dilatih, digunakan untuk melakukan prediksi pada data uji (X_test) dengan memanggil metode predict() dari objek RandomForestClassifier. Hasil prediksi disimpan dalam variabel rf_pred."
   ]
  },
  {
   "cell_type": "code",
   "execution_count": 69,
   "metadata": {},
   "outputs": [],
   "source": [
    "rf_accuracy = accuracy_score(y_test, rf_pred)\n",
    "rf_report = classification_report(y_test, rf_pred)"
   ]
  },
  {
   "attachments": {},
   "cell_type": "markdown",
   "metadata": {},
   "source": [
    "Code di atas digunakan untuk menghitung akurasi model Random Forest dengan membandingkan label yang sebenarnya (y_test) dengan hasil prediksi (rf_pred) menggunakan fungsi accuracy_score() dari modul sklearn.metrics. Hasil akurasi disimpan dalam variabel rf_accuracy.\n",
    "\n",
    "Selain itu, kode juga menghasilkan laporan klasifikasi (classification_report) yang menyediakan informasi seperti precision, recall, dan f1-score untuk setiap kelas. Laporan klasifikasi ini dibuat dengan membandingkan label yang sebenarnya (y_test) dengan hasil prediksi (rf_pred) menggunakan fungsi classification_report() dari modul sklearn.metrics. Hasil laporan klasifikasi disimpan dalam variabel rf_report."
   ]
  },
  {
   "cell_type": "code",
   "execution_count": 70,
   "metadata": {},
   "outputs": [
    {
     "name": "stdout",
     "output_type": "stream",
     "text": [
      "Accuracy: 50.0 %\n",
      "Classification Report:\n",
      "               precision    recall  f1-score   support\n",
      "\n",
      "    WHIMBREL       0.48      0.59      0.53        22\n",
      "     WRENTIT       0.40      0.38      0.39        16\n",
      "  ZEBRA DOVE       0.61      0.50      0.55        22\n",
      "\n",
      "    accuracy                           0.50        60\n",
      "   macro avg       0.50      0.49      0.49        60\n",
      "weighted avg       0.51      0.50      0.50        60\n",
      "\n"
     ]
    }
   ],
   "source": [
    "print(\"Accuracy:\", rf_accuracy * 100, \"%\")\n",
    "print(\"Classification Report:\\n\", rf_report)"
   ]
  }
 ],
 "metadata": {
  "kernelspec": {
   "display_name": "Python 3",
   "language": "python",
   "name": "python3"
  },
  "language_info": {
   "codemirror_mode": {
    "name": "ipython",
    "version": 3
   },
   "file_extension": ".py",
   "mimetype": "text/x-python",
   "name": "python",
   "nbconvert_exporter": "python",
   "pygments_lexer": "ipython3",
   "version": "3.11.3"
  },
  "orig_nbformat": 4
 },
 "nbformat": 4,
 "nbformat_minor": 2
}
